{
 "cells": [
  {
   "cell_type": "code",
   "execution_count": 15,
   "metadata": {},
   "outputs": [],
   "source": [
    "# Import the dependencies.\n",
    "import pandas as pd\n",
    "import matplotlib.pyplot as plt\n",
    "import numpy as np\n",
    "from citipy import citipy\n",
    "import requests\n",
    "from config import weather_api_key\n",
    "from datetime import datetime"
   ]
  },
  {
   "cell_type": "code",
   "execution_count": 16,
   "metadata": {},
   "outputs": [
    {
     "data": {
      "text/plain": [
       "<zip at 0x169769e7848>"
      ]
     },
     "execution_count": 16,
     "metadata": {},
     "output_type": "execute_result"
    }
   ],
   "source": [
    "# Create a set of random latitude and longitude combinations.\n",
    "#lats and lngs are floating-point decimal nd Arrays\n",
    "# zip function produces a zip object containing tuples\n",
    "lats = np.random.uniform(low=-90.000, high=90.000, size=50)\n",
    "lngs = np.random.uniform(low=-180.000, high=180.000, size=50)\n",
    "lat_lngs = zip(lats, lngs)\n",
    "lat_lngs"
   ]
  },
  {
   "cell_type": "code",
   "execution_count": 17,
   "metadata": {},
   "outputs": [],
   "source": [
    "# Add the latitudes and longitudes to a list. (unpack the zip) creates a list of tuples\n",
    "coordinates = list(lat_lngs)"
   ]
  },
  {
   "cell_type": "code",
   "execution_count": 18,
   "metadata": {},
   "outputs": [],
   "source": [
    "# Starting URL for Weather Map API Call.\n",
    "url = \"http://api.openweathermap.org/data/2.5/weather?units=Imperial&APPID=\" + weather_api_key"
   ]
  },
  {
   "cell_type": "code",
   "execution_count": 19,
   "metadata": {},
   "outputs": [
    {
     "data": {
      "text/plain": [
       "46"
      ]
     },
     "execution_count": 19,
     "metadata": {},
     "output_type": "execute_result"
    }
   ],
   "source": [
    "# Create a list for holding the cities.\n",
    "cities = []\n",
    "# Identify the nearest city for each latitude and longitude combination.\n",
    "for coordinate in coordinates:\n",
    "    city = citipy.nearest_city(coordinate[0], coordinate[1]).city_name\n",
    "# If the city is unique, then we will add it to the cities list.\n",
    "    if city not in cities:\n",
    "        cities.append(city)\n",
    "# Print the city count to confirm sufficient count.\n",
    "len(cities)   \n"
   ]
  },
  {
   "cell_type": "code",
   "execution_count": 22,
   "metadata": {},
   "outputs": [
    {
     "name": "stdout",
     "output_type": "stream",
     "text": [
      "Beginning Data Retrieval     \n",
      "-----------------------------\n",
      "http://api.openweathermap.org/data/2.5/weather?units=Imperial&APPID=48e9a78bb7b33b94c8d6a77723cb3dda&q=sao+lourenco+do+sul\n",
      "Processing Record 1 of Set 1 | sao lourenco do sul\n",
      "http://api.openweathermap.org/data/2.5/weather?units=Imperial&APPID=48e9a78bb7b33b94c8d6a77723cb3dda&q=bitburg\n",
      "Processing Record 2 of Set 1 | bitburg\n",
      "http://api.openweathermap.org/data/2.5/weather?units=Imperial&APPID=48e9a78bb7b33b94c8d6a77723cb3dda&q=bethel\n",
      "Processing Record 3 of Set 1 | bethel\n",
      "http://api.openweathermap.org/data/2.5/weather?units=Imperial&APPID=48e9a78bb7b33b94c8d6a77723cb3dda&q=cidreira\n",
      "Processing Record 4 of Set 1 | cidreira\n",
      "http://api.openweathermap.org/data/2.5/weather?units=Imperial&APPID=48e9a78bb7b33b94c8d6a77723cb3dda&q=muroran\n",
      "Processing Record 5 of Set 1 | muroran\n",
      "http://api.openweathermap.org/data/2.5/weather?units=Imperial&APPID=48e9a78bb7b33b94c8d6a77723cb3dda&q=kuito\n",
      "Processing Record 6 of Set 1 | kuito\n",
      "http://api.openweathermap.org/data/2.5/weather?units=Imperial&APPID=48e9a78bb7b33b94c8d6a77723cb3dda&q=doha\n",
      "Processing Record 7 of Set 1 | doha\n",
      "http://api.openweathermap.org/data/2.5/weather?units=Imperial&APPID=48e9a78bb7b33b94c8d6a77723cb3dda&q=niamey\n",
      "Processing Record 8 of Set 1 | niamey\n",
      "http://api.openweathermap.org/data/2.5/weather?units=Imperial&APPID=48e9a78bb7b33b94c8d6a77723cb3dda&q=brae\n",
      "Processing Record 9 of Set 1 | brae\n",
      "http://api.openweathermap.org/data/2.5/weather?units=Imperial&APPID=48e9a78bb7b33b94c8d6a77723cb3dda&q=mataura\n",
      "Processing Record 10 of Set 1 | mataura\n",
      "http://api.openweathermap.org/data/2.5/weather?units=Imperial&APPID=48e9a78bb7b33b94c8d6a77723cb3dda&q=barrow\n",
      "Processing Record 11 of Set 1 | barrow\n",
      "http://api.openweathermap.org/data/2.5/weather?units=Imperial&APPID=48e9a78bb7b33b94c8d6a77723cb3dda&q=svetlyy\n",
      "Processing Record 12 of Set 1 | svetlyy\n",
      "http://api.openweathermap.org/data/2.5/weather?units=Imperial&APPID=48e9a78bb7b33b94c8d6a77723cb3dda&q=kapaa\n",
      "Processing Record 13 of Set 1 | kapaa\n",
      "http://api.openweathermap.org/data/2.5/weather?units=Imperial&APPID=48e9a78bb7b33b94c8d6a77723cb3dda&q=samarai\n",
      "Processing Record 14 of Set 1 | samarai\n",
      "http://api.openweathermap.org/data/2.5/weather?units=Imperial&APPID=48e9a78bb7b33b94c8d6a77723cb3dda&q=tasiilaq\n",
      "Processing Record 15 of Set 1 | tasiilaq\n",
      "http://api.openweathermap.org/data/2.5/weather?units=Imperial&APPID=48e9a78bb7b33b94c8d6a77723cb3dda&q=illoqqortoormiut\n",
      "Processing Record 16 of Set 1 | illoqqortoormiut\n",
      "City not found. Skipping...\n",
      "http://api.openweathermap.org/data/2.5/weather?units=Imperial&APPID=48e9a78bb7b33b94c8d6a77723cb3dda&q=mahebourg\n",
      "Processing Record 17 of Set 1 | mahebourg\n",
      "http://api.openweathermap.org/data/2.5/weather?units=Imperial&APPID=48e9a78bb7b33b94c8d6a77723cb3dda&q=yellowknife\n",
      "Processing Record 18 of Set 1 | yellowknife\n",
      "http://api.openweathermap.org/data/2.5/weather?units=Imperial&APPID=48e9a78bb7b33b94c8d6a77723cb3dda&q=sofiyivka\n",
      "Processing Record 19 of Set 1 | sofiyivka\n",
      "http://api.openweathermap.org/data/2.5/weather?units=Imperial&APPID=48e9a78bb7b33b94c8d6a77723cb3dda&q=lebu\n",
      "Processing Record 20 of Set 1 | lebu\n",
      "http://api.openweathermap.org/data/2.5/weather?units=Imperial&APPID=48e9a78bb7b33b94c8d6a77723cb3dda&q=chuy\n",
      "Processing Record 21 of Set 1 | chuy\n",
      "http://api.openweathermap.org/data/2.5/weather?units=Imperial&APPID=48e9a78bb7b33b94c8d6a77723cb3dda&q=moron\n",
      "Processing Record 22 of Set 1 | moron\n",
      "http://api.openweathermap.org/data/2.5/weather?units=Imperial&APPID=48e9a78bb7b33b94c8d6a77723cb3dda&q=busselton\n",
      "Processing Record 23 of Set 1 | busselton\n",
      "http://api.openweathermap.org/data/2.5/weather?units=Imperial&APPID=48e9a78bb7b33b94c8d6a77723cb3dda&q=khatanga\n",
      "Processing Record 24 of Set 1 | khatanga\n",
      "http://api.openweathermap.org/data/2.5/weather?units=Imperial&APPID=48e9a78bb7b33b94c8d6a77723cb3dda&q=hermanus\n",
      "Processing Record 25 of Set 1 | hermanus\n",
      "http://api.openweathermap.org/data/2.5/weather?units=Imperial&APPID=48e9a78bb7b33b94c8d6a77723cb3dda&q=teguldet\n",
      "Processing Record 26 of Set 1 | teguldet\n",
      "http://api.openweathermap.org/data/2.5/weather?units=Imperial&APPID=48e9a78bb7b33b94c8d6a77723cb3dda&q=turtas\n",
      "Processing Record 27 of Set 1 | turtas\n",
      "http://api.openweathermap.org/data/2.5/weather?units=Imperial&APPID=48e9a78bb7b33b94c8d6a77723cb3dda&q=berlevag\n",
      "Processing Record 28 of Set 1 | berlevag\n",
      "http://api.openweathermap.org/data/2.5/weather?units=Imperial&APPID=48e9a78bb7b33b94c8d6a77723cb3dda&q=constitucion\n",
      "Processing Record 29 of Set 1 | constitucion\n",
      "http://api.openweathermap.org/data/2.5/weather?units=Imperial&APPID=48e9a78bb7b33b94c8d6a77723cb3dda&q=flin+flon\n",
      "Processing Record 30 of Set 1 | flin flon\n",
      "http://api.openweathermap.org/data/2.5/weather?units=Imperial&APPID=48e9a78bb7b33b94c8d6a77723cb3dda&q=jamestown\n",
      "Processing Record 31 of Set 1 | jamestown\n",
      "http://api.openweathermap.org/data/2.5/weather?units=Imperial&APPID=48e9a78bb7b33b94c8d6a77723cb3dda&q=rikitea\n",
      "Processing Record 32 of Set 1 | rikitea\n",
      "http://api.openweathermap.org/data/2.5/weather?units=Imperial&APPID=48e9a78bb7b33b94c8d6a77723cb3dda&q=saskylakh\n",
      "Processing Record 33 of Set 1 | saskylakh\n",
      "http://api.openweathermap.org/data/2.5/weather?units=Imperial&APPID=48e9a78bb7b33b94c8d6a77723cb3dda&q=bengkulu\n",
      "Processing Record 34 of Set 1 | bengkulu\n",
      "http://api.openweathermap.org/data/2.5/weather?units=Imperial&APPID=48e9a78bb7b33b94c8d6a77723cb3dda&q=acajutla\n",
      "Processing Record 35 of Set 1 | acajutla\n",
      "http://api.openweathermap.org/data/2.5/weather?units=Imperial&APPID=48e9a78bb7b33b94c8d6a77723cb3dda&q=carnarvon\n",
      "Processing Record 36 of Set 1 | carnarvon\n",
      "http://api.openweathermap.org/data/2.5/weather?units=Imperial&APPID=48e9a78bb7b33b94c8d6a77723cb3dda&q=albany\n",
      "Processing Record 37 of Set 1 | albany\n",
      "http://api.openweathermap.org/data/2.5/weather?units=Imperial&APPID=48e9a78bb7b33b94c8d6a77723cb3dda&q=fray+bentos\n",
      "Processing Record 38 of Set 1 | fray bentos\n",
      "http://api.openweathermap.org/data/2.5/weather?units=Imperial&APPID=48e9a78bb7b33b94c8d6a77723cb3dda&q=taolanaro\n",
      "Processing Record 39 of Set 1 | taolanaro\n",
      "City not found. Skipping...\n",
      "http://api.openweathermap.org/data/2.5/weather?units=Imperial&APPID=48e9a78bb7b33b94c8d6a77723cb3dda&q=atuona\n",
      "Processing Record 40 of Set 1 | atuona\n",
      "http://api.openweathermap.org/data/2.5/weather?units=Imperial&APPID=48e9a78bb7b33b94c8d6a77723cb3dda&q=hasaki\n",
      "Processing Record 41 of Set 1 | hasaki\n",
      "http://api.openweathermap.org/data/2.5/weather?units=Imperial&APPID=48e9a78bb7b33b94c8d6a77723cb3dda&q=narsaq\n",
      "Processing Record 42 of Set 1 | narsaq\n",
      "http://api.openweathermap.org/data/2.5/weather?units=Imperial&APPID=48e9a78bb7b33b94c8d6a77723cb3dda&q=ushuaia\n",
      "Processing Record 43 of Set 1 | ushuaia\n",
      "http://api.openweathermap.org/data/2.5/weather?units=Imperial&APPID=48e9a78bb7b33b94c8d6a77723cb3dda&q=jackson\n",
      "Processing Record 44 of Set 1 | jackson\n",
      "http://api.openweathermap.org/data/2.5/weather?units=Imperial&APPID=48e9a78bb7b33b94c8d6a77723cb3dda&q=northam\n",
      "Processing Record 45 of Set 1 | northam\n",
      "http://api.openweathermap.org/data/2.5/weather?units=Imperial&APPID=48e9a78bb7b33b94c8d6a77723cb3dda&q=shumikha\n",
      "Processing Record 46 of Set 1 | shumikha\n",
      "-----------------------------\n",
      "Data Retrieval Complete      \n",
      "-----------------------------\n"
     ]
    }
   ],
   "source": [
    "# Create an empty list to hold the weather data.\n",
    "city_data = []\n",
    "# Print the beginning of the logging.\n",
    "print(\"Beginning Data Retrieval     \")\n",
    "print(\"-----------------------------\")\n",
    "# Create counters.\n",
    "record_count = 1\n",
    "set_count = 1\n",
    "\n",
    "# Loop through all the cities in the list.\n",
    "for i, city in enumerate(cities):\n",
    "# Group cities in sets of 50 for logging purposes.\n",
    "    if (i % 50 == 0 and i >= 50):\n",
    "        set_count += 1\n",
    "        record_count = 1\n",
    "    # Create endpoint URL with each city. handle names with spaces in them\n",
    "    city_url = url + \"&q=\" + city.replace(\" \",\"+\")\n",
    "    print(city_url)\n",
    "# Log the URL, record, and set numbers and the city.\n",
    "    print(f\"Processing Record {record_count} of Set {set_count} | {city}\")\n",
    "    # Add 1 to the record count.\n",
    "    record_count += 1\n",
    "    \n",
    "# Run an API request for each of the cities.\n",
    "    try:\n",
    "        # Parse the JSON and retrieve data.\n",
    "        city_weather = requests.get(city_url).json()\n",
    "        # Parse out the needed data.\n",
    "        city_lat = city_weather[\"coord\"][\"lat\"]\n",
    "        city_lng = city_weather[\"coord\"][\"lon\"]\n",
    "        city_max_temp = city_weather[\"main\"][\"temp_max\"]\n",
    "        city_humidity = city_weather[\"main\"][\"humidity\"]\n",
    "        city_clouds = city_weather[\"clouds\"][\"all\"]\n",
    "        city_wind = city_weather[\"wind\"][\"speed\"]\n",
    "        city_country = city_weather[\"sys\"][\"country\"]\n",
    "        # Convert the date to ISO standard.\n",
    "        city_date = datetime.utcfromtimestamp(city_weather[\"dt\"]).strftime('%Y-%m-%d %H:%M:%S')\n",
    "        # Append the city information into city_data list.\n",
    "        city_data.append({\"City\": city.title(),\n",
    "                          \"Lat\": city_lat,\n",
    "                          \"Lng\": city_lng,\n",
    "                          \"Max Temp\": city_max_temp,\n",
    "                          \"Humidity\": city_humidity,\n",
    "                          \"Cloudiness\": city_clouds,\n",
    "                          \"Wind Speed\": city_wind,\n",
    "                          \"Country\": city_country,\n",
    "                          \"Date\": city_date})\n",
    "# If an error is experienced, skip the city.\n",
    "    except:\n",
    "        print(\"City not found. Skipping...\")\n",
    "        pass\n",
    "# Indicate that Data Loading is complete.\n",
    "print(\"-----------------------------\")\n",
    "print(\"Data Retrieval Complete      \")\n",
    "print(\"-----------------------------\")\n",
    "\n"
   ]
  },
  {
   "cell_type": "code",
   "execution_count": null,
   "metadata": {},
   "outputs": [],
   "source": [
    "print(len(city_data))"
   ]
  },
  {
   "cell_type": "code",
   "execution_count": null,
   "metadata": {},
   "outputs": [],
   "source": [
    "# Convert the array of dictionaries to a Pandas DataFrame.\n",
    "city_data_df = pd.DataFrame(city_data)\n",
    "city_data_df.head(10)\n"
   ]
  },
  {
   "cell_type": "code",
   "execution_count": null,
   "metadata": {},
   "outputs": [],
   "source": [
    "new_column_order=[\"City\", \"Country\", \"Date\", \"Lat\", \"Lng\", \"Max Temp\", \"Humidity\", \"Cloudiness\", \"Wind Speed\"]\n",
    "city_data_ordered_df=city_data_df[new_column_order]"
   ]
  },
  {
   "cell_type": "code",
   "execution_count": null,
   "metadata": {},
   "outputs": [],
   "source": [
    "city_data_ordered_df.head(10)"
   ]
  },
  {
   "cell_type": "code",
   "execution_count": null,
   "metadata": {},
   "outputs": [],
   "source": [
    "# Create the output file (CSV).\n",
    "output_data_file = \"weather_data/cities.csv\"\n",
    "# Export the City_Data into a CSV.\n",
    "city_data_ordered_df.to_csv(output_data_file, index_label=\"City_ID\")\n"
   ]
  },
  {
   "cell_type": "code",
   "execution_count": null,
   "metadata": {},
   "outputs": [],
   "source": [
    "city_data_df=city_data_ordered_df\n"
   ]
  },
  {
   "cell_type": "code",
   "execution_count": null,
   "metadata": {},
   "outputs": [],
   "source": [
    "# Extract relevant fields from the DataFrame for plotting.\n",
    "lats = city_data_df[\"Lat\"]\n",
    "max_temps = city_data_df[\"Max Temp\"]\n",
    "humidity = city_data_df[\"Humidity\"]\n",
    "cloudiness = city_data_df[\"Cloudiness\"]\n",
    "wind_speed = city_data_df[\"Wind Speed\"]\n"
   ]
  },
  {
   "cell_type": "code",
   "execution_count": null,
   "metadata": {},
   "outputs": [],
   "source": [
    "import time\n",
    "# Build the scatter plot for latitude vs. max temperature.\n",
    "plt.scatter(lats,\n",
    "            max_temps,\n",
    "            edgecolor=\"black\", linewidths=1, marker=\"o\",\n",
    "            alpha=0.8, label=\"Cities\")\n",
    "# Incorporate the other graph properties.\n",
    "plt.title(f\"City Latitude vs. Max Temperature \"+ time.strftime(\"%x\"))\n",
    "plt.ylabel(\"Max Temperature (F)\")\n",
    "plt.xlabel(\"Latitude\")\n",
    "plt.grid(True)\n",
    "# Save the figure.\n",
    "plt.savefig(\"weather_data/Fig1.png\")\n",
    "# Show plot.\n",
    "plt.show()"
   ]
  },
  {
   "cell_type": "code",
   "execution_count": null,
   "metadata": {},
   "outputs": [],
   "source": [
    "# Build the scatter plots for latitude vs. humidity.\n",
    "plt.scatter(lats,\n",
    "            humidity,\n",
    "            edgecolor=\"black\", linewidths=1, marker=\"o\",\n",
    "            alpha=0.8, label=\"Cities\")\n",
    "\n",
    "# Incorporate the other graph properties.\n",
    "plt.title(f\"City Latitude vs. Humidity \"+ time.strftime(\"%x\"))\n",
    "plt.ylabel(\"Humidity (%)\")\n",
    "plt.xlabel(\"Latitude\")\n",
    "plt.grid(True)\n",
    "# Save the figure.\n",
    "plt.savefig(\"weather_data/Fig2.png\")\n",
    "# Show plot.\n",
    "plt.show()\n"
   ]
  },
  {
   "cell_type": "code",
   "execution_count": null,
   "metadata": {},
   "outputs": [],
   "source": [
    "# Build the scatter plots for latitude vs. cloudiness.\n",
    "plt.scatter(lats,\n",
    "            cloudiness,\n",
    "            edgecolor=\"black\", linewidths=1, marker=\"o\",\n",
    "            alpha=0.8, label=\"Cities\")\n",
    "# Incorporate the other graph properties.\n",
    "plt.title(f\"City Latitude vs. Cloudiness (%) \"+ time.strftime(\"%x\"))\n",
    "plt.ylabel(\"Cloudiness (%)\")\n",
    "plt.xlabel(\"Latitude\")\n",
    "plt.grid(True)\n",
    "# Save the figure.\n",
    "plt.savefig(\"weather_data/Fig3.png\")\n",
    "# Show plot.\n",
    "plt.show()\n"
   ]
  },
  {
   "cell_type": "code",
   "execution_count": null,
   "metadata": {},
   "outputs": [],
   "source": [
    "# Build the scatter plots for latitude vs. wind speed.\n",
    "plt.scatter(lats,\n",
    "            wind_speed,\n",
    "            edgecolor=\"black\", linewidths=1, marker=\"o\",\n",
    "            alpha=0.8, label=\"Cities\")\n",
    "# Incorporate the other graph properties.\n",
    "plt.title(f\"City Latitude vs. Wind Speed \"+ time.strftime(\"%x\"))\n",
    "plt.ylabel(\"Wind Speed (mph)\")\n",
    "plt.xlabel(\"Latitude\")\n",
    "plt.grid(True)\n",
    "# Save the figure.\n",
    "plt.savefig(\"weather_data/Fig4.png\")\n",
    "# Show plot.\n",
    "plt.show()\n"
   ]
  },
  {
   "cell_type": "code",
   "execution_count": null,
   "metadata": {},
   "outputs": [],
   "source": [
    "# Create a function to create perform linear regression on the weather data\n",
    "# and plot a regression line and the equation with the data.\n",
    "    \n",
    "# Import linregress\n",
    "from scipy.stats import linregress\n",
    "\n",
    "# Create a function to create perform linear regression on the weather data\n",
    "# and plot a regression line and the equation with the data.\n",
    "\n",
    "def plot_linear_regression(x_values, y_values, title, y_label, text_coordinates):\n",
    "    \n",
    "# Run regression on hemisphere weather data.\n",
    "    (slope, intercept, r_value, p_value, std_err) = linregress(x_values, y_values)\n",
    "    \n",
    "# Calculate the regression line \"y values\" from the slope and intercept.\n",
    "    regress_values = x_values * slope + intercept\n",
    "    \n",
    "    # Get the equation of the line.\n",
    "    line_eq = \"y = \" + str(round(slope,2)) + \"x + \" + str(round(intercept,2))\n",
    "    \n",
    "    # Create a scatter plot and plot the regression line.\n",
    "    plt.scatter(x_values,y_values)\n",
    "    plt.plot(x_values,regress_values,\"r\")\n",
    "    \n",
    "    # Annotate the text for the line equation.\n",
    "    plt.annotate(line_eq, text_coordinates, fontsize=15, color=\"red\")\n",
    "    plt.xlabel('Latitude')\n",
    "    plt.ylabel(y_label)\n",
    "    plt.title(title)\n",
    "    plt.show()\n"
   ]
  },
  {
   "cell_type": "code",
   "execution_count": null,
   "metadata": {},
   "outputs": [],
   "source": [
    "# Create Northern and Southern Hemisphere DataFrames.\n",
    "northern_hemi_df = city_data_df.loc[(city_data_df[\"Lat\"] >= 0)]\n",
    "southern_hemi_df = city_data_df.loc[(city_data_df[\"Lat\"] < 0)]\n"
   ]
  },
  {
   "cell_type": "code",
   "execution_count": null,
   "metadata": {},
   "outputs": [],
   "source": [
    "# Linear regression on the Northern Hemisphere\n",
    "x_values = northern_hemi_df[\"Lat\"]\n",
    "y_values = northern_hemi_df[\"Max Temp\"]\n",
    "# Call the function.\n",
    "plot_linear_regression(x_values, y_values,\n",
    "                       'Linear Regression on the Northern Hemisphere \\n for Maximum Temperature', \n",
    "                       'Max Temp',(10,40))\n"
   ]
  },
  {
   "cell_type": "code",
   "execution_count": null,
   "metadata": {},
   "outputs": [],
   "source": [
    "# Linear regression on the Southern Hemisphere\n",
    "x_values = southern_hemi_df[\"Lat\"]\n",
    "y_values = southern_hemi_df[\"Max Temp\"]\n",
    "# Call the function.\n",
    "plot_linear_regression(x_values, y_values,\n",
    "                       'Linear Regression on the Southern Hemisphere \\n for Maximum Temperature', 'Max Temp',(-50,90))\n"
   ]
  },
  {
   "cell_type": "code",
   "execution_count": null,
   "metadata": {},
   "outputs": [],
   "source": [
    "#Linear regression on %Humidity for Northern Hemisphere (x-axis positive lats)\n",
    "x_values = northern_hemi_df[\"Lat\"]\n",
    "y_values = northern_hemi_df[\"Humidity\"]\n",
    "plot_linear_regression(x_values, y_values,\n",
    "                       'Linear Regression on the Northern Hemisphere \\n for % Humidity', '%Humidity',(40,10))"
   ]
  },
  {
   "cell_type": "code",
   "execution_count": null,
   "metadata": {},
   "outputs": [],
   "source": [
    "#Linear regression on %Humidity for Southern Hemisphere\n",
    "x_values = southern_hemi_df[\"Lat\"]\n",
    "y_values = southern_hemi_df[\"Humidity\"]\n",
    "plot_linear_regression(x_values, y_values,\n",
    "                       'Linear Regression on the Southern Hemisphere \\n for % Humidity', '%Humidity',(-50,60))"
   ]
  },
  {
   "cell_type": "code",
   "execution_count": null,
   "metadata": {},
   "outputs": [],
   "source": [
    "#Linear regression on %Cloudiness for Northern Hemisphere (x-axis positive lats)\n",
    "x_values = northern_hemi_df[\"Lat\"]\n",
    "y_values = northern_hemi_df[\"Cloudiness\"]\n",
    "plot_linear_regression(x_values, y_values,\n",
    "                       'Linear Regression on the Northern Hemisphere \\n for % Cloudiness', '% Cloudiness',(40,10))"
   ]
  },
  {
   "cell_type": "code",
   "execution_count": null,
   "metadata": {},
   "outputs": [],
   "source": [
    "#Linear regression on %Humidity for Southern Hemisphere\n",
    "x_values = southern_hemi_df[\"Lat\"]\n",
    "y_values = southern_hemi_df[\"Cloudiness\"]\n",
    "plot_linear_regression(x_values, y_values,\n",
    "                       'Linear Regression on the Southern Hemisphere \\n for % Cloudiness', '%Cloudiness',(-50,50))"
   ]
  },
  {
   "cell_type": "code",
   "execution_count": null,
   "metadata": {},
   "outputs": [],
   "source": [
    "#Linear regression on %Cloudiness for Northern Hemisphere (x-axis positive lats)\n",
    "x_values = northern_hemi_df[\"Lat\"]\n",
    "y_values = northern_hemi_df[\"Wind Speed\"]\n",
    "plot_linear_regression(x_values, y_values,\n",
    "                       'Linear Regression on the Northern Hemisphere \\n for Windspeed', 'Wind Speed',(40,40))"
   ]
  },
  {
   "cell_type": "code",
   "execution_count": null,
   "metadata": {},
   "outputs": [],
   "source": [
    "#Linear regression on %Humidity for Southern Hemisphere\n",
    "x_values = southern_hemi_df[\"Lat\"]\n",
    "y_values = southern_hemi_df[\"Wind Speed\"]\n",
    "plot_linear_regression(x_values, y_values,\n",
    "                       'Linear Regression on the Southern Hemisphere \\n for Wind Speed', 'Wind Speed',(-50,20))"
   ]
  },
  {
   "cell_type": "code",
   "execution_count": null,
   "metadata": {},
   "outputs": [],
   "source": []
  }
 ],
 "metadata": {
  "kernelspec": {
   "display_name": "PythonData",
   "language": "python",
   "name": "pythondata"
  },
  "language_info": {
   "codemirror_mode": {
    "name": "ipython",
    "version": 3
   },
   "file_extension": ".py",
   "mimetype": "text/x-python",
   "name": "python",
   "nbconvert_exporter": "python",
   "pygments_lexer": "ipython3",
   "version": "3.7.9"
  }
 },
 "nbformat": 4,
 "nbformat_minor": 4
}
